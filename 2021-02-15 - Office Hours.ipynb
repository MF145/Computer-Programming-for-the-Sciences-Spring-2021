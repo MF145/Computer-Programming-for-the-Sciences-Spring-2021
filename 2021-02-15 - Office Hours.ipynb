{
 "cells": [
  {
   "cell_type": "code",
   "execution_count": 10,
   "id": "unlimited-bones",
   "metadata": {},
   "outputs": [
    {
     "name": "stdout",
     "output_type": "stream",
     "text": [
      "Populating the interactive namespace from numpy and matplotlib\n"
     ]
    }
   ],
   "source": [
    "%pylab inline"
   ]
  },
  {
   "cell_type": "code",
   "execution_count": 11,
   "id": "communist-reset",
   "metadata": {},
   "outputs": [],
   "source": [
    "from sci378 import *"
   ]
  },
  {
   "cell_type": "code",
   "execution_count": 12,
   "id": "successful-kazakhstan",
   "metadata": {},
   "outputs": [],
   "source": [
    "import pandas as pd\n",
    "data=pd.read_csv('https://vincentarelbundock.github.io/Rdatasets/csv/AER/Guns.csv')"
   ]
  },
  {
   "cell_type": "code",
   "execution_count": 13,
   "id": "written-arkansas",
   "metadata": {},
   "outputs": [
    {
     "data": {
      "text/html": [
       "<div>\n",
       "<style scoped>\n",
       "    .dataframe tbody tr th:only-of-type {\n",
       "        vertical-align: middle;\n",
       "    }\n",
       "\n",
       "    .dataframe tbody tr th {\n",
       "        vertical-align: top;\n",
       "    }\n",
       "\n",
       "    .dataframe thead th {\n",
       "        text-align: right;\n",
       "    }\n",
       "</style>\n",
       "<table border=\"1\" class=\"dataframe\">\n",
       "  <thead>\n",
       "    <tr style=\"text-align: right;\">\n",
       "      <th></th>\n",
       "      <th>Unnamed: 0</th>\n",
       "      <th>year</th>\n",
       "      <th>violent</th>\n",
       "      <th>murder</th>\n",
       "      <th>robbery</th>\n",
       "      <th>prisoners</th>\n",
       "      <th>afam</th>\n",
       "      <th>cauc</th>\n",
       "      <th>male</th>\n",
       "      <th>population</th>\n",
       "      <th>income</th>\n",
       "      <th>density</th>\n",
       "      <th>state</th>\n",
       "      <th>law</th>\n",
       "    </tr>\n",
       "  </thead>\n",
       "  <tbody>\n",
       "    <tr>\n",
       "      <th>0</th>\n",
       "      <td>1</td>\n",
       "      <td>1977</td>\n",
       "      <td>414.4</td>\n",
       "      <td>14.2</td>\n",
       "      <td>96.8</td>\n",
       "      <td>83</td>\n",
       "      <td>8.384873</td>\n",
       "      <td>55.12291</td>\n",
       "      <td>18.17441</td>\n",
       "      <td>3.780403</td>\n",
       "      <td>9563.148</td>\n",
       "      <td>0.074552</td>\n",
       "      <td>Alabama</td>\n",
       "      <td>no</td>\n",
       "    </tr>\n",
       "    <tr>\n",
       "      <th>1</th>\n",
       "      <td>2</td>\n",
       "      <td>1978</td>\n",
       "      <td>419.1</td>\n",
       "      <td>13.3</td>\n",
       "      <td>99.1</td>\n",
       "      <td>94</td>\n",
       "      <td>8.352101</td>\n",
       "      <td>55.14367</td>\n",
       "      <td>17.99408</td>\n",
       "      <td>3.831838</td>\n",
       "      <td>9932.000</td>\n",
       "      <td>0.075567</td>\n",
       "      <td>Alabama</td>\n",
       "      <td>no</td>\n",
       "    </tr>\n",
       "    <tr>\n",
       "      <th>2</th>\n",
       "      <td>3</td>\n",
       "      <td>1979</td>\n",
       "      <td>413.3</td>\n",
       "      <td>13.2</td>\n",
       "      <td>109.5</td>\n",
       "      <td>144</td>\n",
       "      <td>8.329575</td>\n",
       "      <td>55.13586</td>\n",
       "      <td>17.83934</td>\n",
       "      <td>3.866248</td>\n",
       "      <td>9877.028</td>\n",
       "      <td>0.076245</td>\n",
       "      <td>Alabama</td>\n",
       "      <td>no</td>\n",
       "    </tr>\n",
       "    <tr>\n",
       "      <th>3</th>\n",
       "      <td>4</td>\n",
       "      <td>1980</td>\n",
       "      <td>448.5</td>\n",
       "      <td>13.2</td>\n",
       "      <td>132.1</td>\n",
       "      <td>141</td>\n",
       "      <td>8.408386</td>\n",
       "      <td>54.91259</td>\n",
       "      <td>17.73420</td>\n",
       "      <td>3.900368</td>\n",
       "      <td>9541.428</td>\n",
       "      <td>0.076829</td>\n",
       "      <td>Alabama</td>\n",
       "      <td>no</td>\n",
       "    </tr>\n",
       "    <tr>\n",
       "      <th>4</th>\n",
       "      <td>5</td>\n",
       "      <td>1981</td>\n",
       "      <td>470.5</td>\n",
       "      <td>11.9</td>\n",
       "      <td>126.5</td>\n",
       "      <td>149</td>\n",
       "      <td>8.483435</td>\n",
       "      <td>54.92513</td>\n",
       "      <td>17.67372</td>\n",
       "      <td>3.918531</td>\n",
       "      <td>9548.351</td>\n",
       "      <td>0.077187</td>\n",
       "      <td>Alabama</td>\n",
       "      <td>no</td>\n",
       "    </tr>\n",
       "    <tr>\n",
       "      <th>...</th>\n",
       "      <td>...</td>\n",
       "      <td>...</td>\n",
       "      <td>...</td>\n",
       "      <td>...</td>\n",
       "      <td>...</td>\n",
       "      <td>...</td>\n",
       "      <td>...</td>\n",
       "      <td>...</td>\n",
       "      <td>...</td>\n",
       "      <td>...</td>\n",
       "      <td>...</td>\n",
       "      <td>...</td>\n",
       "      <td>...</td>\n",
       "      <td>...</td>\n",
       "    </tr>\n",
       "    <tr>\n",
       "      <th>1168</th>\n",
       "      <td>1169</td>\n",
       "      <td>1995</td>\n",
       "      <td>254.2</td>\n",
       "      <td>2.1</td>\n",
       "      <td>17.9</td>\n",
       "      <td>254</td>\n",
       "      <td>1.485849</td>\n",
       "      <td>73.71621</td>\n",
       "      <td>15.37098</td>\n",
       "      <td>0.478447</td>\n",
       "      <td>14070.160</td>\n",
       "      <td>0.004927</td>\n",
       "      <td>Wyoming</td>\n",
       "      <td>yes</td>\n",
       "    </tr>\n",
       "    <tr>\n",
       "      <th>1169</th>\n",
       "      <td>1170</td>\n",
       "      <td>1996</td>\n",
       "      <td>249.7</td>\n",
       "      <td>3.3</td>\n",
       "      <td>20.4</td>\n",
       "      <td>289</td>\n",
       "      <td>1.521814</td>\n",
       "      <td>73.85796</td>\n",
       "      <td>15.44601</td>\n",
       "      <td>0.480085</td>\n",
       "      <td>14032.230</td>\n",
       "      <td>0.004944</td>\n",
       "      <td>Wyoming</td>\n",
       "      <td>yes</td>\n",
       "    </tr>\n",
       "    <tr>\n",
       "      <th>1170</th>\n",
       "      <td>1171</td>\n",
       "      <td>1997</td>\n",
       "      <td>255.2</td>\n",
       "      <td>3.5</td>\n",
       "      <td>17.7</td>\n",
       "      <td>310</td>\n",
       "      <td>1.527818</td>\n",
       "      <td>73.92731</td>\n",
       "      <td>15.49400</td>\n",
       "      <td>0.480031</td>\n",
       "      <td>14790.980</td>\n",
       "      <td>0.004943</td>\n",
       "      <td>Wyoming</td>\n",
       "      <td>yes</td>\n",
       "    </tr>\n",
       "    <tr>\n",
       "      <th>1171</th>\n",
       "      <td>1172</td>\n",
       "      <td>1998</td>\n",
       "      <td>247.6</td>\n",
       "      <td>4.8</td>\n",
       "      <td>16.2</td>\n",
       "      <td>326</td>\n",
       "      <td>1.558396</td>\n",
       "      <td>73.98515</td>\n",
       "      <td>15.51021</td>\n",
       "      <td>0.480045</td>\n",
       "      <td>15225.510</td>\n",
       "      <td>0.004944</td>\n",
       "      <td>Wyoming</td>\n",
       "      <td>yes</td>\n",
       "    </tr>\n",
       "    <tr>\n",
       "      <th>1172</th>\n",
       "      <td>1173</td>\n",
       "      <td>1999</td>\n",
       "      <td>232.3</td>\n",
       "      <td>2.3</td>\n",
       "      <td>15.4</td>\n",
       "      <td>327</td>\n",
       "      <td>1.613004</td>\n",
       "      <td>74.04952</td>\n",
       "      <td>15.48013</td>\n",
       "      <td>0.479602</td>\n",
       "      <td>15765.070</td>\n",
       "      <td>0.004939</td>\n",
       "      <td>Wyoming</td>\n",
       "      <td>yes</td>\n",
       "    </tr>\n",
       "  </tbody>\n",
       "</table>\n",
       "<p>1173 rows × 14 columns</p>\n",
       "</div>"
      ],
      "text/plain": [
       "      Unnamed: 0  year  violent  murder  robbery  prisoners      afam  \\\n",
       "0              1  1977    414.4    14.2     96.8         83  8.384873   \n",
       "1              2  1978    419.1    13.3     99.1         94  8.352101   \n",
       "2              3  1979    413.3    13.2    109.5        144  8.329575   \n",
       "3              4  1980    448.5    13.2    132.1        141  8.408386   \n",
       "4              5  1981    470.5    11.9    126.5        149  8.483435   \n",
       "...          ...   ...      ...     ...      ...        ...       ...   \n",
       "1168        1169  1995    254.2     2.1     17.9        254  1.485849   \n",
       "1169        1170  1996    249.7     3.3     20.4        289  1.521814   \n",
       "1170        1171  1997    255.2     3.5     17.7        310  1.527818   \n",
       "1171        1172  1998    247.6     4.8     16.2        326  1.558396   \n",
       "1172        1173  1999    232.3     2.3     15.4        327  1.613004   \n",
       "\n",
       "          cauc      male  population     income   density    state  law  \n",
       "0     55.12291  18.17441    3.780403   9563.148  0.074552  Alabama   no  \n",
       "1     55.14367  17.99408    3.831838   9932.000  0.075567  Alabama   no  \n",
       "2     55.13586  17.83934    3.866248   9877.028  0.076245  Alabama   no  \n",
       "3     54.91259  17.73420    3.900368   9541.428  0.076829  Alabama   no  \n",
       "4     54.92513  17.67372    3.918531   9548.351  0.077187  Alabama   no  \n",
       "...        ...       ...         ...        ...       ...      ...  ...  \n",
       "1168  73.71621  15.37098    0.478447  14070.160  0.004927  Wyoming  yes  \n",
       "1169  73.85796  15.44601    0.480085  14032.230  0.004944  Wyoming  yes  \n",
       "1170  73.92731  15.49400    0.480031  14790.980  0.004943  Wyoming  yes  \n",
       "1171  73.98515  15.51021    0.480045  15225.510  0.004944  Wyoming  yes  \n",
       "1172  74.04952  15.48013    0.479602  15765.070  0.004939  Wyoming  yes  \n",
       "\n",
       "[1173 rows x 14 columns]"
      ]
     },
     "execution_count": 13,
     "metadata": {},
     "output_type": "execute_result"
    }
   ],
   "source": [
    "data"
   ]
  },
  {
   "cell_type": "code",
   "execution_count": 18,
   "id": "lined-elephant",
   "metadata": {},
   "outputs": [],
   "source": [
    "x=array(data[data['state']=='California']['year'])\n",
    "y=array(data[data['state']=='California']['murder'])"
   ]
  },
  {
   "cell_type": "code",
   "execution_count": 19,
   "id": "liked-netherlands",
   "metadata": {},
   "outputs": [
    {
     "data": {
      "text/plain": [
       "[<matplotlib.lines.Line2D at 0x7ffc90ae0820>]"
      ]
     },
     "execution_count": 19,
     "metadata": {},
     "output_type": "execute_result"
    },
    {
     "data": {
      "image/png": "[encoded data removed]",
      "text/plain": [
       "<Figure size 432x288 with 1 Axes>"
      ]
     },
     "metadata": {
      "needs_background": "light"
     },
     "output_type": "display_data"
    }
   ],
   "source": [
    "plot(x,y,'o')"
   ]
  },
  {
   "cell_type": "code",
   "execution_count": 21,
   "id": "suspected-maximum",
   "metadata": {},
   "outputs": [
    {
     "data": {
      "text/plain": [
       "[<matplotlib.lines.Line2D at 0x7ffc90ba3700>]"
      ]
     },
     "execution_count": 21,
     "metadata": {},
     "output_type": "execute_result"
    },
    {
     "data": {
      "image/png": "[encoded data removed]",
      "text/plain": [
       "<Figure size 432x288 with 1 Axes>"
      ]
     },
     "metadata": {
      "needs_background": "light"
     },
     "output_type": "display_data"
    }
   ],
   "source": [
    "x=array(data[data['state']=='California']['year'])\n",
    "y=array(data[data['state']=='California']['murder'])\n",
    "plot(x,y,'o')\n",
    "\n",
    "x=array(data[data['state']=='New York']['year'])\n",
    "y=array(data[data['state']=='New York']['murder'])\n",
    "plot(x,y,'s')\n"
   ]
  },
  {
   "cell_type": "code",
   "execution_count": 17,
   "id": "unlike-worship",
   "metadata": {},
   "outputs": [
    {
     "data": {
      "text/plain": [
       "1173"
      ]
     },
     "execution_count": 17,
     "metadata": {},
     "output_type": "execute_result"
    }
   ],
   "source": [
    "len(x)"
   ]
  },
  {
   "cell_type": "code",
   "execution_count": null,
   "id": "tracked-howard",
   "metadata": {},
   "outputs": [],
   "source": []
  }
 ],
 "metadata": {
  "kernelspec": {
   "display_name": "Python 3",
   "language": "python",
   "name": "python3"
  },
  "language_info": {
   "codemirror_mode": {
    "name": "ipython",
    "version": 3
   },
   "file_extension": ".py",
   "mimetype": "text/x-python",
   "name": "python",
   "nbconvert_exporter": "python",
   "pygments_lexer": "ipython3",
   "version": "3.8.6"
  }
 },
 "nbformat": 4,
 "nbformat_minor": 5
}
