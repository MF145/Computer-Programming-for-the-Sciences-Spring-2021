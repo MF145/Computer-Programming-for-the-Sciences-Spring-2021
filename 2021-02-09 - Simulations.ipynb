{
 "cells": [
  {
   "cell_type": "code",
   "execution_count": 1,
   "metadata": {},
   "outputs": [
    {
     "name": "stdout",
     "output_type": "stream",
     "text": [
      "Populating the interactive namespace from numpy and matplotlib\n"
     ]
    }
   ],
   "source": [
    "%pylab inline"
   ]
  },
  {
   "cell_type": "code",
   "execution_count": 2,
   "metadata": {},
   "outputs": [
    {
     "name": "stdout",
     "output_type": "stream",
     "text": [
      "Version:  0.0.3\n"
     ]
    }
   ],
   "source": [
    "from sci378 import *"
   ]
  },
  {
   "cell_type": "markdown",
   "metadata": {},
   "source": [
    "$$\n",
    "\\frac{dp}{dt} = a\\cdot p\n",
    "$$"
   ]
  },
  {
   "cell_type": "markdown",
   "metadata": {},
   "source": [
    "- determine what's a variable and what's a parameter\n",
    "    - variables: p , [t]\n",
    "    - parameter: a\n",
    "- set initial values of variables\n",
    "- set the values of the parameter\n",
    "- set time, and the time step (dt)\n",
    "\n",
    "- loop the following:\n",
    "    - for each variable, calculate the small change: dp = a*p*dt\n",
    "    - update the variable values: p = p+dp\n",
    "    - update time: t= t+dt\n",
    "    - do any bookkeeping"
   ]
  },
  {
   "cell_type": "code",
   "execution_count": 3,
   "metadata": {},
   "outputs": [],
   "source": [
    "p=2\n",
    "t=0\n",
    "dt=0.1\n",
    "\n",
    "a=3\n",
    "\n",
    "S=Storage()\n",
    "S+=t,p\n",
    "\n",
    "for i in range(100):\n",
    "    \n",
    "    dp=a*p*dt\n",
    "    p=p+dp\n",
    "    t=t+dt\n",
    "    \n",
    "    S+=t,p\n",
    "    "
   ]
  },
  {
   "cell_type": "code",
   "execution_count": 9,
   "metadata": {},
   "outputs": [
    {
     "data": {
      "text/plain": [
       "Text(0, 0.5, 'p')"
      ]
     },
     "execution_count": 9,
     "metadata": {},
     "output_type": "execute_result"
    },
    {
     "data": {
      "image/png": "[encoded data removed]",
      "text/plain": [
       "<Figure size 360x216 with 1 Axes>"
      ]
     },
     "metadata": {
      "needs_background": "light"
     },
     "output_type": "display_data"
    }
   ],
   "source": [
    "t,p=S.arrays()\n",
    "figure(figsize=(5,3))\n",
    "plot(t,p)\n",
    "xlabel('time')\n",
    "ylabel('p')"
   ]
  },
  {
   "cell_type": "code",
   "execution_count": 5,
   "metadata": {},
   "outputs": [
    {
     "data": {
      "text/plain": [
       "array([ 0. ,  0.1,  0.2,  0.3,  0.4,  0.5,  0.6,  0.7,  0.8,  0.9,  1. ,\n",
       "        1.1,  1.2,  1.3,  1.4,  1.5,  1.6,  1.7,  1.8,  1.9,  2. ,  2.1,\n",
       "        2.2,  2.3,  2.4,  2.5,  2.6,  2.7,  2.8,  2.9,  3. ,  3.1,  3.2,\n",
       "        3.3,  3.4,  3.5,  3.6,  3.7,  3.8,  3.9,  4. ,  4.1,  4.2,  4.3,\n",
       "        4.4,  4.5,  4.6,  4.7,  4.8,  4.9,  5. ,  5.1,  5.2,  5.3,  5.4,\n",
       "        5.5,  5.6,  5.7,  5.8,  5.9,  6. ,  6.1,  6.2,  6.3,  6.4,  6.5,\n",
       "        6.6,  6.7,  6.8,  6.9,  7. ,  7.1,  7.2,  7.3,  7.4,  7.5,  7.6,\n",
       "        7.7,  7.8,  7.9,  8. ,  8.1,  8.2,  8.3,  8.4,  8.5,  8.6,  8.7,\n",
       "        8.8,  8.9,  9. ,  9.1,  9.2,  9.3,  9.4,  9.5,  9.6,  9.7,  9.8,\n",
       "        9.9, 10. ])"
      ]
     },
     "execution_count": 5,
     "metadata": {},
     "output_type": "execute_result"
    }
   ],
   "source": [
    "t"
   ]
  },
  {
   "cell_type": "code",
   "execution_count": 6,
   "metadata": {},
   "outputs": [
    {
     "data": {
      "text/plain": [
       "array([2.00000000e+00, 2.60000000e+00, 3.38000000e+00, 4.39400000e+00,\n",
       "       5.71220000e+00, 7.42586000e+00, 9.65361800e+00, 1.25497034e+01,\n",
       "       1.63146144e+01, 2.12089987e+01, 2.75716984e+01, 3.58432079e+01,\n",
       "       4.65961702e+01, 6.05750213e+01, 7.87475277e+01, 1.02371786e+02,\n",
       "       1.33083322e+02, 1.73008318e+02, 2.24910814e+02, 2.92384058e+02,\n",
       "       3.80099275e+02, 4.94129058e+02, 6.42367776e+02, 8.35078108e+02,\n",
       "       1.08560154e+03, 1.41128200e+03, 1.83466660e+03, 2.38506659e+03,\n",
       "       3.10058656e+03, 4.03076253e+03, 5.23999129e+03, 6.81198867e+03,\n",
       "       8.85558528e+03, 1.15122609e+04, 1.49659391e+04, 1.94557209e+04,\n",
       "       2.52924371e+04, 3.28801682e+04, 4.27442187e+04, 5.55674843e+04,\n",
       "       7.22377296e+04, 9.39090485e+04, 1.22081763e+05, 1.58706292e+05,\n",
       "       2.06318180e+05, 2.68213633e+05, 3.48677723e+05, 4.53281040e+05,\n",
       "       5.89265353e+05, 7.66044958e+05, 9.95858446e+05, 1.29461598e+06,\n",
       "       1.68300077e+06, 2.18790101e+06, 2.84427131e+06, 3.69755270e+06,\n",
       "       4.80681851e+06, 6.24886406e+06, 8.12352328e+06, 1.05605803e+07,\n",
       "       1.37287543e+07, 1.78473806e+07, 2.32015948e+07, 3.01620733e+07,\n",
       "       3.92106953e+07, 5.09739039e+07, 6.62660750e+07, 8.61458975e+07,\n",
       "       1.11989667e+08, 1.45586567e+08, 1.89262537e+08, 2.46041298e+08,\n",
       "       3.19853687e+08, 4.15809794e+08, 5.40552732e+08, 7.02718551e+08,\n",
       "       9.13534116e+08, 1.18759435e+09, 1.54387266e+09, 2.00703445e+09,\n",
       "       2.60914479e+09, 3.39188823e+09, 4.40945470e+09, 5.73229110e+09,\n",
       "       7.45197844e+09, 9.68757197e+09, 1.25938436e+10, 1.63719966e+10,\n",
       "       2.12835956e+10, 2.76686743e+10, 3.59692766e+10, 4.67600596e+10,\n",
       "       6.07880774e+10, 7.90245006e+10, 1.02731851e+11, 1.33551406e+11,\n",
       "       1.73616828e+11, 2.25701876e+11, 2.93412439e+11, 3.81436171e+11,\n",
       "       4.95867022e+11])"
      ]
     },
     "execution_count": 6,
     "metadata": {},
     "output_type": "execute_result"
    }
   ],
   "source": [
    "p"
   ]
  },
  {
   "cell_type": "markdown",
   "metadata": {},
   "source": [
    "## questions\n",
    "\n",
    "- what happens (any difference) with initial conditions?\n",
    "- what happens (any difference) with changing parameters?"
   ]
  },
  {
   "cell_type": "code",
   "execution_count": 12,
   "metadata": {},
   "outputs": [
    {
     "data": {
      "text/plain": [
       "Text(0, 0.5, 'p')"
      ]
     },
     "execution_count": 12,
     "metadata": {},
     "output_type": "execute_result"
    },
    {
     "data": {
      "image/png": "[encoded data removed]",
      "text/plain": [
       "<Figure size 360x216 with 1 Axes>"
      ]
     },
     "metadata": {
      "needs_background": "light"
     },
     "output_type": "display_data"
    }
   ],
   "source": [
    "figure(figsize=(5,3))\n",
    "\n",
    "#===============\n",
    "p=2\n",
    "t=0\n",
    "dt=0.1\n",
    "\n",
    "a=.1\n",
    "\n",
    "S=Storage()\n",
    "S+=t,p\n",
    "\n",
    "for i in range(200):\n",
    "    \n",
    "    dp=a*p*dt\n",
    "    p=p+dp\n",
    "    t=t+dt\n",
    "    \n",
    "    S+=t,p\n",
    "    \n",
    "    \n",
    "t,p=S.arrays()\n",
    "plot(t,p)\n",
    "xlabel('time')\n",
    "ylabel('p')    \n",
    "\n",
    "#===============\n",
    "p=2\n",
    "t=0\n",
    "dt=0.1\n",
    "\n",
    "a=.15\n",
    "\n",
    "S=Storage()\n",
    "S+=t,p\n",
    "\n",
    "for i in range(200):\n",
    "    \n",
    "    dp=a*p*dt\n",
    "    p=p+dp\n",
    "    t=t+dt\n",
    "    \n",
    "    S+=t,p\n",
    "    \n",
    "    \n",
    "t,p=S.arrays()\n",
    "plot(t,p)\n",
    "xlabel('time')\n",
    "ylabel('p')    "
   ]
  },
  {
   "cell_type": "code",
   "execution_count": null,
   "metadata": {},
   "outputs": [],
   "source": []
  }
 ],
 "metadata": {
  "kernelspec": {
   "display_name": "Python 3",
   "language": "python",
   "name": "python3"
  },
  "language_info": {
   "codemirror_mode": {
    "name": "ipython",
    "version": 3
   },
   "file_extension": ".py",
   "mimetype": "text/x-python",
   "name": "python",
   "nbconvert_exporter": "python",
   "pygments_lexer": "ipython3",
   "version": "3.8.6"
  }
 },
 "nbformat": 4,
 "nbformat_minor": 4
}
