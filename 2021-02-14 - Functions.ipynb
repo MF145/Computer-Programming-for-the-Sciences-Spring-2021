{
 "cells": [
  {
   "cell_type": "markdown",
   "id": "posted-category",
   "metadata": {},
   "source": [
    "- to determine say the 8th number larger than 10"
   ]
  },
  {
   "cell_type": "code",
   "execution_count": 2,
   "id": "british-thong",
   "metadata": {},
   "outputs": [
    {
     "name": "stdout",
     "output_type": "stream",
     "text": [
      "greater\n"
     ]
    }
   ],
   "source": [
    "N=15\n",
    "\n",
    "if N>10:\n",
    "    print(\"greater\")\n",
    "else:\n",
    "    print(\"less than\")"
   ]
  },
  {
   "cell_type": "code",
   "execution_count": 3,
   "id": "married-finnish",
   "metadata": {},
   "outputs": [],
   "source": [
    "def greater_than_10(N):\n",
    "\n",
    "    if N>10:\n",
    "        print(\"greater\")\n",
    "    else:\n",
    "        print(\"less than\")    "
   ]
  },
  {
   "cell_type": "code",
   "execution_count": 5,
   "id": "greater-florence",
   "metadata": {},
   "outputs": [
    {
     "name": "stdout",
     "output_type": "stream",
     "text": [
      "less than\n"
     ]
    }
   ],
   "source": [
    "N=1\n",
    "greater_than_10(N)"
   ]
  },
  {
   "cell_type": "code",
   "execution_count": 8,
   "id": "gross-roads",
   "metadata": {},
   "outputs": [],
   "source": [
    "def greater_than_10(N):\n",
    "\n",
    "    if N>10:\n",
    "        return True\n",
    "    else:\n",
    "        return False  "
   ]
  },
  {
   "cell_type": "code",
   "execution_count": 9,
   "id": "martial-saudi",
   "metadata": {},
   "outputs": [
    {
     "data": {
      "text/plain": [
       "False"
      ]
     },
     "execution_count": 9,
     "metadata": {},
     "output_type": "execute_result"
    }
   ],
   "source": [
    "N=1\n",
    "greater_than_10(N)"
   ]
  },
  {
   "cell_type": "code",
   "execution_count": 10,
   "id": "accurate-swift",
   "metadata": {},
   "outputs": [],
   "source": [
    "N=1\n",
    "gotit=greater_than_10(N)"
   ]
  },
  {
   "cell_type": "code",
   "execution_count": 11,
   "id": "committed-diagnosis",
   "metadata": {},
   "outputs": [
    {
     "data": {
      "text/plain": [
       "False"
      ]
     },
     "execution_count": 11,
     "metadata": {},
     "output_type": "execute_result"
    }
   ],
   "source": [
    "gotit"
   ]
  },
  {
   "cell_type": "code",
   "execution_count": 14,
   "id": "graduate-isaac",
   "metadata": {},
   "outputs": [
    {
     "name": "stdout",
     "output_type": "stream",
     "text": [
      "0 <\n",
      "1 <\n",
      "2 <\n",
      "3 <\n",
      "4 <\n",
      "5 <\n",
      "6 <\n",
      "7 <\n",
      "8 <\n",
      "9 <\n",
      "10 <\n",
      "11 >\n",
      "12 >\n",
      "13 >\n",
      "14 >\n",
      "15 >\n",
      "16 >\n",
      "17 >\n",
      "18 >\n",
      "found it: 18\n"
     ]
    }
   ],
   "source": [
    "count=0\n",
    "for N in range(25):\n",
    "    gotit=greater_than_10(N)\n",
    "    \n",
    "    if gotit:\n",
    "        print(N,\">\")\n",
    "        count=count+1\n",
    "        if count==8:\n",
    "            break\n",
    "    else:\n",
    "        print(N,\"<\")\n",
    "\n",
    "        \n",
    "        \n",
    "print(\"found it:\",N)"
   ]
  },
  {
   "cell_type": "markdown",
   "id": "passing-watson",
   "metadata": {},
   "source": [
    "- I want the 11th number that is both divisible by 13 and by 2"
   ]
  },
  {
   "cell_type": "code",
   "execution_count": 15,
   "id": "velvet-train",
   "metadata": {},
   "outputs": [],
   "source": [
    "def divisible_by_13_and_2(N):\n",
    "    \n",
    "    if (N%2==0) and (N%13==0):\n",
    "        return True\n",
    "    else:\n",
    "        return False"
   ]
  },
  {
   "cell_type": "code",
   "execution_count": 19,
   "id": "blond-analysis",
   "metadata": {},
   "outputs": [
    {
     "name": "stdout",
     "output_type": "stream",
     "text": [
      "0 >\n",
      "26 >\n",
      "52 >\n",
      "78 >\n",
      "104 >\n",
      "130 >\n",
      "156 >\n",
      "182 >\n",
      "208 >\n",
      "234 >\n",
      "260 >\n",
      "found it: 260\n"
     ]
    }
   ],
   "source": [
    "count=0\n",
    "\n",
    "actually_found_it=False\n",
    "\n",
    "for N in range(500):\n",
    "    gotit=divisible_by_13_and_2(N)\n",
    "    \n",
    "    if gotit:\n",
    "        print(N,\">\")\n",
    "        count=count+1\n",
    "        if count==11:\n",
    "            actually_found_it=True            \n",
    "            break\n",
    "    else:\n",
    "        pass\n",
    "\n",
    "        \n",
    "if actually_found_it:        \n",
    "    print(\"found it:\",N)\n",
    "else:\n",
    "    print(\"try a large number in your loop\")"
   ]
  },
  {
   "cell_type": "code",
   "execution_count": null,
   "id": "animated-favorite",
   "metadata": {},
   "outputs": [],
   "source": []
  }
 ],
 "metadata": {
  "kernelspec": {
   "display_name": "Python 3",
   "language": "python",
   "name": "python3"
  },
  "language_info": {
   "codemirror_mode": {
    "name": "ipython",
    "version": 3
   },
   "file_extension": ".py",
   "mimetype": "text/x-python",
   "name": "python",
   "nbconvert_exporter": "python",
   "pygments_lexer": "ipython3",
   "version": "3.8.6"
  }
 },
 "nbformat": 4,
 "nbformat_minor": 5
}
