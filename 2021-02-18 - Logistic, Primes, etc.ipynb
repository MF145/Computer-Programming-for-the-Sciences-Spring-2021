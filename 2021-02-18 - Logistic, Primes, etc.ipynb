{
 "cells": [
  {
   "cell_type": "code",
   "execution_count": 1,
   "id": "exposed-worship",
   "metadata": {},
   "outputs": [
    {
     "name": "stdout",
     "output_type": "stream",
     "text": [
      "Populating the interactive namespace from numpy and matplotlib\n"
     ]
    }
   ],
   "source": [
    "%pylab inline"
   ]
  },
  {
   "cell_type": "code",
   "execution_count": 3,
   "id": "proud-michael",
   "metadata": {},
   "outputs": [
    {
     "name": "stdout",
     "output_type": "stream",
     "text": [
      "Version:  0.0.4\n"
     ]
    }
   ],
   "source": [
    "from sci378 import *"
   ]
  },
  {
   "cell_type": "markdown",
   "id": "regular-learning",
   "metadata": {},
   "source": [
    "LaTeX format for math\n",
    "\n",
    "$$\n",
    "\\frac{dx}{dt} = a\\cdot x \\cdot (1-x/K)\n",
    "$$\n",
    "\n",
    "$$\n",
    "dx = \\left(a\\cdot x \\cdot (1-x/K)\\right) \\cdot dt\n",
    "$$"
   ]
  },
  {
   "cell_type": "markdown",
   "id": "separate-supplier",
   "metadata": {},
   "source": [
    "- determine what's a variable and what's a parameter\n",
    "    - variables: x , [t]\n",
    "    - parameter: a, K\n",
    "- set initial values of variables\n",
    "- set the values of the parameter\n",
    "- set time, and the time step (dt)\n",
    "\n",
    "- loop the following:\n",
    "    - for each variable, calculate the small change: dp = a*p*dt\n",
    "    - update the variable values: x = x+dx\n",
    "    - update time: t= t+dt\n",
    "    - do any bookkeeping"
   ]
  },
  {
   "cell_type": "code",
   "execution_count": 4,
   "id": "ceramic-economy",
   "metadata": {},
   "outputs": [],
   "source": [
    "x=2\n",
    "t=0\n",
    "dt=0.1\n",
    "\n",
    "a=3\n",
    "K=50\n",
    "\n",
    "S=Storage()\n",
    "S+=t,x\n",
    "\n",
    "for i in range(100):\n",
    "    \n",
    "    dx=(a*x*(1-x/K))*dt\n",
    "    \n",
    "    x=x+dx\n",
    "    t=t+dt\n",
    "    \n",
    "    S+=t,x\n",
    "    "
   ]
  },
  {
   "cell_type": "code",
   "execution_count": 5,
   "id": "bacterial-motor",
   "metadata": {},
   "outputs": [
    {
     "data": {
      "text/plain": [
       "Text(0, 0.5, 'x')"
      ]
     },
     "execution_count": 5,
     "metadata": {},
     "output_type": "execute_result"
    },
    {
     "data": {
      "image/png": "[encoded data removed]",
      "text/plain": [
       "<Figure size 360x216 with 1 Axes>"
      ]
     },
     "metadata": {
      "needs_background": "light"
     },
     "output_type": "display_data"
    }
   ],
   "source": [
    "t,x=S.arrays()\n",
    "figure(figsize=(5,3))\n",
    "plot(t,x)\n",
    "xlabel('time')\n",
    "ylabel('x')"
   ]
  },
  {
   "cell_type": "markdown",
   "id": "incorporate-quilt",
   "metadata": {},
   "source": [
    "## parameter exploration"
   ]
  },
  {
   "cell_type": "code",
   "execution_count": 8,
   "id": "composed-category",
   "metadata": {},
   "outputs": [
    {
     "data": {
      "text/plain": [
       "Text(0, 0.5, 'x')"
      ]
     },
     "execution_count": 8,
     "metadata": {},
     "output_type": "execute_result"
    },
    {
     "data": {
      "image/png": "[encoded data removed]",
      "text/plain": [
       "<Figure size 360x216 with 1 Axes>"
      ]
     },
     "metadata": {
      "needs_background": "light"
     },
     "output_type": "display_data"
    }
   ],
   "source": [
    "figure(figsize=(5,3))\n",
    "\n",
    "\n",
    "x=2\n",
    "t=0\n",
    "dt=0.1\n",
    "\n",
    "a=3\n",
    "K=50\n",
    "\n",
    "S=Storage()\n",
    "S+=t,x\n",
    "\n",
    "for i in range(100):\n",
    "    \n",
    "    dx=(a*x*(1-x/K))*dt\n",
    "    \n",
    "    x=x+dx\n",
    "    t=t+dt\n",
    "    \n",
    "    S+=t,x\n",
    "    \n",
    "t,x=S.arrays()\n",
    "\n",
    "plot(t,x)\n",
    "xlabel('time')\n",
    "ylabel('x')\n",
    "\n",
    "#==============================\n",
    "\n",
    "x=2\n",
    "t=0\n",
    "dt=0.1\n",
    "\n",
    "a=6\n",
    "K=50\n",
    "\n",
    "S=Storage()\n",
    "S+=t,x\n",
    "\n",
    "for i in range(100):\n",
    "    \n",
    "    dx=(a*x*(1-x/K))*dt\n",
    "    \n",
    "    x=x+dx\n",
    "    t=t+dt\n",
    "    \n",
    "    S+=t,x\n",
    "    \n",
    "t,x=S.arrays()\n",
    "\n",
    "plot(t,x)\n",
    "xlabel('time')\n",
    "ylabel('x')\n",
    "\n",
    "#==============================\n",
    "\n",
    "x=2\n",
    "t=0\n",
    "dt=0.1\n",
    "\n",
    "a=1\n",
    "K=50\n",
    "\n",
    "S=Storage()\n",
    "S+=t,x\n",
    "\n",
    "for i in range(100):\n",
    "    \n",
    "    dx=(a*x*(1-x/K))*dt\n",
    "    \n",
    "    x=x+dx\n",
    "    t=t+dt\n",
    "    \n",
    "    S+=t,x\n",
    "    \n",
    "t,x=S.arrays()\n",
    "\n",
    "plot(t,x)\n",
    "xlabel('time')\n",
    "ylabel('x')\n"
   ]
  },
  {
   "cell_type": "code",
   "execution_count": 9,
   "id": "opening-grenada",
   "metadata": {},
   "outputs": [
    {
     "data": {
      "text/plain": [
       "Text(0, 0.5, 'x')"
      ]
     },
     "execution_count": 9,
     "metadata": {},
     "output_type": "execute_result"
    },
    {
     "data": {
      "image/png": "[encoded data removed]",
      "text/plain": [
       "<Figure size 360x216 with 1 Axes>"
      ]
     },
     "metadata": {
      "needs_background": "light"
     },
     "output_type": "display_data"
    }
   ],
   "source": [
    "figure(figsize=(5,3))\n",
    "\n",
    "\n",
    "x=2\n",
    "t=0\n",
    "dt=0.1\n",
    "\n",
    "a=3\n",
    "K=50\n",
    "\n",
    "S=Storage()\n",
    "S+=t,x\n",
    "\n",
    "for i in range(100):\n",
    "    \n",
    "    dx=(a*x*(1-x/K))*dt\n",
    "    \n",
    "    x=x+dx\n",
    "    t=t+dt\n",
    "    \n",
    "    S+=t,x\n",
    "    \n",
    "t,x=S.arrays()\n",
    "\n",
    "plot(t,x)\n",
    "xlabel('time')\n",
    "ylabel('x')\n",
    "\n",
    "#==============================\n",
    "\n",
    "x=2\n",
    "t=0\n",
    "dt=0.1\n",
    "\n",
    "a=3\n",
    "K=20\n",
    "\n",
    "S=Storage()\n",
    "S+=t,x\n",
    "\n",
    "for i in range(100):\n",
    "    \n",
    "    dx=(a*x*(1-x/K))*dt\n",
    "    \n",
    "    x=x+dx\n",
    "    t=t+dt\n",
    "    \n",
    "    S+=t,x\n",
    "    \n",
    "t,x=S.arrays()\n",
    "\n",
    "plot(t,x)\n",
    "xlabel('time')\n",
    "ylabel('x')\n",
    "\n",
    "#==============================\n",
    "\n",
    "x=2\n",
    "t=0\n",
    "dt=0.1\n",
    "\n",
    "a=3\n",
    "K=80\n",
    "\n",
    "S=Storage()\n",
    "S+=t,x\n",
    "\n",
    "for i in range(100):\n",
    "    \n",
    "    dx=(a*x*(1-x/K))*dt\n",
    "    \n",
    "    x=x+dx\n",
    "    t=t+dt\n",
    "    \n",
    "    S+=t,x\n",
    "    \n",
    "t,x=S.arrays()\n",
    "\n",
    "plot(t,x)\n",
    "xlabel('time')\n",
    "ylabel('x')\n"
   ]
  },
  {
   "cell_type": "code",
   "execution_count": 17,
   "id": "banner-consequence",
   "metadata": {},
   "outputs": [
    {
     "data": {
      "text/plain": [
       "Text(0, 0.5, 'x')"
      ]
     },
     "execution_count": 17,
     "metadata": {},
     "output_type": "execute_result"
    },
    {
     "data": {
      "image/png": "[encoded data removed]",
      "text/plain": [
       "<Figure size 360x216 with 1 Axes>"
      ]
     },
     "metadata": {
      "needs_background": "light"
     },
     "output_type": "display_data"
    }
   ],
   "source": [
    "figure(figsize=(5,3))\n",
    "\n",
    "\n",
    "x=49.9\n",
    "t=0\n",
    "dt=0.1\n",
    "\n",
    "a=3\n",
    "K=50\n",
    "\n",
    "S=Storage()\n",
    "S+=t,x\n",
    "\n",
    "for i in range(100):\n",
    "    \n",
    "    dx=(a*x*(1-x/K))*dt\n",
    "    \n",
    "    x=x+dx\n",
    "    t=t+dt\n",
    "    \n",
    "    S+=t,x\n",
    "    \n",
    "t,x=S.arrays()\n",
    "\n",
    "plot(t,x)\n",
    "xlabel('time')\n",
    "ylabel('x')\n"
   ]
  },
  {
   "cell_type": "code",
   "execution_count": null,
   "id": "productive-discovery",
   "metadata": {},
   "outputs": [],
   "source": []
  }
 ],
 "metadata": {
  "kernelspec": {
   "display_name": "Python 3",
   "language": "python",
   "name": "python3"
  },
  "language_info": {
   "codemirror_mode": {
    "name": "ipython",
    "version": 3
   },
   "file_extension": ".py",
   "mimetype": "text/x-python",
   "name": "python",
   "nbconvert_exporter": "python",
   "pygments_lexer": "ipython3",
   "version": "3.8.6"
  }
 },
 "nbformat": 4,
 "nbformat_minor": 5
}
