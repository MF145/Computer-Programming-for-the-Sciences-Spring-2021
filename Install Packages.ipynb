{
 "cells": [
  {
   "cell_type": "code",
   "execution_count": 1,
   "metadata": {},
   "outputs": [],
   "source": [
    "def get_course_github(name='Computer-Programming-For-the-Sciences-Spring-2021',\n",
    "                     folder=None):\n",
    "    import os,sys,platform\n",
    "    from pathlib import Path\n",
    "    \n",
    "    github_url='https://github.com/bblais/'+name\n",
    "    \n",
    "    if folder is None:\n",
    "        downloads_folder=str(Path.home() / \"Downloads\")\n",
    "    else:\n",
    "        downloads_folder=folder\n",
    "                         \n",
    "    if not os.path.exists(downloads_folder):\n",
    "        raise ValueError(\"Can't find folder %s\" % downloads_folder)\n",
    "        \n",
    "    local_folder=str(Path(downloads_folder)  / name)\n",
    "    \n",
    "    print(github_url,\" ---> \",local_folder)\n",
    "    \n",
    "    \n",
    "    if not os.path.exists(local_folder):\n",
    "        if platform.system()==\"Windows\":\n",
    "            !cd {downloads_folder} & git clone {github_url}\n",
    "        else:\n",
    "            !cd {downloads_folder} ; git clone {github_url}\n",
    "            \n",
    "    else:\n",
    "        if platform.system()==\"Windows\":\n",
    "            !cd {local_folder} & git pull {github_url}\n",
    "        else:\n",
    "            !cd {local_folder} ; git pull {github_url}\n"
   ]
  },
  {
   "cell_type": "code",
   "execution_count": 3,
   "metadata": {},
   "outputs": [
    {
     "name": "stdout",
     "output_type": "stream",
     "text": [
      "https://github.com/bblais/Computer-Programming-For-the-Sciences-Spring-2021  --->  C:\\Users\\bblais\\Downloads\\Computer-Programming-For-the-Sciences-Spring-2021\n",
      "Already up to date.\n"
     ]
    },
    {
     "name": "stderr",
     "output_type": "stream",
     "text": [
      "From https://github.com/bblais/Computer-Programming-For-the-Sciences-Spring-2021\n",
      " * branch            HEAD       -> FETCH_HEAD\n"
     ]
    }
   ],
   "source": [
    "get_course_github()"
   ]
  },
  {
   "cell_type": "code",
   "execution_count": null,
   "metadata": {},
   "outputs": [],
   "source": []
  }
 ],
 "metadata": {
  "kernelspec": {
   "display_name": "Python 3",
   "language": "python",
   "name": "python3"
  },
  "language_info": {
   "codemirror_mode": {
    "name": "ipython",
    "version": 3
   },
   "file_extension": ".py",
   "mimetype": "text/x-python",
   "name": "python",
   "nbconvert_exporter": "python",
   "pygments_lexer": "ipython3",
   "version": "3.7.6"
  }
 },
 "nbformat": 4,
 "nbformat_minor": 4
}
