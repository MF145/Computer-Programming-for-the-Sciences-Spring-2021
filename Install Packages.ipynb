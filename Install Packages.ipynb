{
 "cells": [
  {
   "cell_type": "code",
   "execution_count": 15,
   "metadata": {},
   "outputs": [
    {
     "name": "stdout",
     "output_type": "stream",
     "text": [
      "Collecting git+git://github.com/bblais/sci378\n",
      "  Cloning git://github.com/bblais/sci378 to c:\\users\\bblais\\appdata\\local\\temp\\pip-req-build-pfmdp_6s\n",
      "Note: you may need to restart the kernel to use updated packages.\n"
     ]
    },
    {
     "name": "stderr",
     "output_type": "stream",
     "text": [
      "  Running command git clone -q git://github.com/bblais/sci378 'C:\\Users\\bblais\\AppData\\Local\\Temp\\pip-req-build-pfmdp_6s'\n",
      "    ERROR: Command errored out with exit status 1:\n",
      "     command: 'C:\\Users\\bblais\\anaconda3\\python.exe' -c 'import sys, setuptools, tokenize; sys.argv[0] = '\"'\"'C:\\\\Users\\\\bblais\\\\AppData\\\\Local\\\\Temp\\\\pip-req-build-pfmdp_6s\\\\setup.py'\"'\"'; __file__='\"'\"'C:\\\\Users\\\\bblais\\\\AppData\\\\Local\\\\Temp\\\\pip-req-build-pfmdp_6s\\\\setup.py'\"'\"';f=getattr(tokenize, '\"'\"'open'\"'\"', open)(__file__);code=f.read().replace('\"'\"'\\r\\n'\"'\"', '\"'\"'\\n'\"'\"');f.close();exec(compile(code, __file__, '\"'\"'exec'\"'\"'))' egg_info --egg-base 'C:\\Users\\bblais\\AppData\\Local\\Temp\\pip-req-build-pfmdp_6s\\pip-egg-info'\n",
      "         cwd: C:\\Users\\bblais\\AppData\\Local\\Temp\\pip-req-build-pfmdp_6s\\\n",
      "    Complete output (11 lines):\n",
      "    Traceback (most recent call last):\n",
      "      File \"<string>\", line 1, in <module>\n",
      "      File \"C:\\Users\\bblais\\AppData\\Local\\Temp\\pip-req-build-pfmdp_6s\\setup.py\", line 1, in <module>\n",
      "        import sci378\n",
      "      File \"C:\\Users\\bblais\\AppData\\Local\\Temp\\pip-req-build-pfmdp_6s\\sci378\\__init__.py\", line 7, in <module>\n",
      "        from .utils import *\n",
      "      File \"C:\\Users\\bblais\\AppData\\Local\\Temp\\pip-req-build-pfmdp_6s\\sci378\\utils.py\", line 38\n",
      "        class Struct(dict):\n",
      "            ^\n",
      "    SyntaxError: invalid syntax\n",
      "    Version:  0.0.3\n",
      "    ----------------------------------------\n",
      "ERROR: Command errored out with exit status 1: python setup.py egg_info Check the logs for full command output.\n"
     ]
    }
   ],
   "source": [
    "pip install \"git+git://github.com/bblais/sci378\" --upgrade"
   ]
  },
  {
   "cell_type": "code",
   "execution_count": 2,
   "metadata": {},
   "outputs": [
    {
     "name": "stdout",
     "output_type": "stream",
     "text": [
      "Version:  0.0.2\n"
     ]
    }
   ],
   "source": [
    "import sci378"
   ]
  },
  {
   "cell_type": "code",
   "execution_count": 4,
   "metadata": {},
   "outputs": [
    {
     "name": "stdout",
     "output_type": "stream",
     "text": [
      "https://github.com/bblais/Computer-Programming-For-the-Sciences-Spring-2021  --->  C:\\Users\\bblais\\Downloads\\Computer-Programming-For-the-Sciences-Spring-2021\n"
     ]
    }
   ],
   "source": [
    "sci378.get_course_github()"
   ]
  },
  {
   "cell_type": "code",
   "execution_count": 6,
   "metadata": {},
   "outputs": [],
   "source": [
    "import IPython"
   ]
  },
  {
   "cell_type": "code",
   "execution_count": 12,
   "metadata": {},
   "outputs": [],
   "source": [
    "_ip=IPython.get_ipython()"
   ]
  },
  {
   "cell_type": "code",
   "execution_count": 14,
   "metadata": {},
   "outputs": [
    {
     "data": {
      "text/plain": [
       "[' Volume in drive C is Windows',\n",
       " ' Volume Serial Number is 8446-3BCA',\n",
       " '',\n",
       " ' Directory of C:\\\\Users\\\\bblais\\\\Documents\\\\GitHub\\\\Computer-Programming-for-the-Sciences-Spring-2021',\n",
       " '',\n",
       " '02/08/2021  08:37 AM    <DIR>          .',\n",
       " '02/08/2021  08:37 AM    <DIR>          ..',\n",
       " '02/01/2021  02:48 PM             1,928 .gitignore',\n",
       " '02/08/2021  06:53 AM    <DIR>          .ipynb_checkpoints',\n",
       " '02/04/2021  01:53 PM            54,618 2020-02-04 - First Simulation.ipynb',\n",
       " '02/04/2021  01:16 PM             6,373 2020-02-04 My first notebook.ipynb',\n",
       " '02/04/2021  01:56 PM            58,846 2021-02-04 - mplturtle examples.ipynb',\n",
       " '02/08/2021  08:19 AM           304,035 2021-02-07 - more mplturtle examples.ipynb',\n",
       " '02/08/2021  08:37 AM             5,121 Install Packages.ipynb',\n",
       " '02/01/2021  02:48 PM             7,037 mplturtle.py',\n",
       " '02/01/2021  02:48 PM                51 README.md',\n",
       " '02/04/2021  12:35 PM    <DIR>          __pycache__',\n",
       " '               8 File(s)        438,009 bytes',\n",
       " '               4 Dir(s)  305,869,299,712 bytes free']"
      ]
     },
     "execution_count": 14,
     "metadata": {},
     "output_type": "execute_result"
    }
   ],
   "source": [
    "_ip.getoutput(\"dir\")"
   ]
  },
  {
   "cell_type": "code",
   "execution_count": null,
   "metadata": {},
   "outputs": [],
   "source": []
  }
 ],
 "metadata": {
  "kernelspec": {
   "display_name": "Python 3",
   "language": "python",
   "name": "python3"
  },
  "language_info": {
   "codemirror_mode": {
    "name": "ipython",
    "version": 3
   },
   "file_extension": ".py",
   "mimetype": "text/x-python",
   "name": "python",
   "nbconvert_exporter": "python",
   "pygments_lexer": "ipython3",
   "version": "3.7.6"
  }
 },
 "nbformat": 4,
 "nbformat_minor": 4
}
