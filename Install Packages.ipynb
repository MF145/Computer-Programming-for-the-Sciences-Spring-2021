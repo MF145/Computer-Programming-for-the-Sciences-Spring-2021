{
 "cells": [
  {
   "cell_type": "code",
   "execution_count": 1,
   "metadata": {},
   "outputs": [
    {
     "name": "stdout",
     "output_type": "stream",
     "text": [
      "Collecting git+git://github.com/bblais/sci378\n",
      "  Cloning git://github.com/bblais/sci378 to /Users/bblais/tmp/pip-req-build-i0dkt9kf\n",
      "Requirement already satisfied: matplotlib in /Users/bblais/opt/anaconda3/lib/python3.8/site-packages (from sci378==0.0.4) (3.3.2)\n",
      "Requirement already satisfied: pandas in /Users/bblais/opt/anaconda3/lib/python3.8/site-packages (from sci378==0.0.4) (1.2.1)\n",
      "Requirement already satisfied: pillow>=6.2.0 in /Users/bblais/opt/anaconda3/lib/python3.8/site-packages (from matplotlib->sci378==0.0.4) (8.1.0)\n",
      "Requirement already satisfied: pyparsing!=2.0.4,!=2.1.2,!=2.1.6,>=2.0.3 in /Users/bblais/opt/anaconda3/lib/python3.8/site-packages (from matplotlib->sci378==0.0.4) (2.4.7)\n",
      "Requirement already satisfied: kiwisolver>=1.0.1 in /Users/bblais/opt/anaconda3/lib/python3.8/site-packages (from matplotlib->sci378==0.0.4) (1.3.1)\n",
      "Requirement already satisfied: numpy>=1.15 in /Users/bblais/opt/anaconda3/lib/python3.8/site-packages (from matplotlib->sci378==0.0.4) (1.19.2)\n",
      "Requirement already satisfied: cycler>=0.10 in /Users/bblais/opt/anaconda3/lib/python3.8/site-packages (from matplotlib->sci378==0.0.4) (0.10.0)\n",
      "Requirement already satisfied: python-dateutil>=2.1 in /Users/bblais/opt/anaconda3/lib/python3.8/site-packages (from matplotlib->sci378==0.0.4) (2.8.1)\n",
      "Requirement already satisfied: certifi>=2020.06.20 in /Users/bblais/opt/anaconda3/lib/python3.8/site-packages (from matplotlib->sci378==0.0.4) (2020.12.5)\n",
      "Requirement already satisfied: six in /Users/bblais/opt/anaconda3/lib/python3.8/site-packages (from cycler>=0.10->matplotlib->sci378==0.0.4) (1.15.0)\n",
      "Requirement already satisfied: pytz>=2017.3 in /Users/bblais/opt/anaconda3/lib/python3.8/site-packages (from pandas->sci378==0.0.4) (2021.1)\n",
      "Building wheels for collected packages: sci378\n",
      "  Building wheel for sci378 (setup.py) ... \u001b[?25ldone\n",
      "\u001b[?25h  Created wheel for sci378: filename=sci378-0.0.4-py3-none-any.whl size=5515 sha256=da942d86b91f0dce88a7dcdc8e9e40267870b5a745e2be86ee36bd7db3bd4ee1\n",
      "  Stored in directory: /Users/bblais/tmp/pip-ephem-wheel-cache-4kij8uzp/wheels/5f/af/05/7f10b62461e895bfa8369aca44a46cffb5d18f211b4949f816\n",
      "Successfully built sci378\n",
      "Installing collected packages: sci378\n",
      "Successfully installed sci378-0.0.4\n"
     ]
    }
   ],
   "source": [
    "!pip install \"git+git://github.com/bblais/sci378\" --upgrade"
   ]
  },
  {
   "cell_type": "code",
   "execution_count": 2,
   "metadata": {},
   "outputs": [
    {
     "name": "stdout",
     "output_type": "stream",
     "text": [
      "Version:  0.0.4\n"
     ]
    }
   ],
   "source": [
    "import sci378"
   ]
  },
  {
   "cell_type": "code",
   "execution_count": 7,
   "metadata": {},
   "outputs": [
    {
     "name": "stdout",
     "output_type": "stream",
     "text": [
      "https://github.com/bblais/Computer-Programming-For-the-Sciences-Spring-2021  --->  C:\\Users\\bblais\\Downloads\\Computer-Programming-For-the-Sciences-Spring-2021\n",
      "['From https://github.com/bblais/Computer-Programming-For-the-Sciences-Spring-2021', ' * branch            HEAD       -> FETCH_HEAD', 'Updating a5116db..31f5675', 'Fast-forward', ' Install Packages.ipynb | 116 +++++++++++++------------------------------------', ' 1 file changed, 29 insertions(+), 87 deletions(-)']\n"
     ]
    }
   ],
   "source": [
    "sci378.get_course_github()"
   ]
  },
  {
   "cell_type": "code",
   "execution_count": null,
   "metadata": {},
   "outputs": [],
   "source": []
  }
 ],
 "metadata": {
  "kernelspec": {
   "display_name": "Python 3",
   "language": "python",
   "name": "python3"
  },
  "language_info": {
   "codemirror_mode": {
    "name": "ipython",
    "version": 3
   },
   "file_extension": ".py",
   "mimetype": "text/x-python",
   "name": "python",
   "nbconvert_exporter": "python",
   "pygments_lexer": "ipython3",
   "version": "3.8.6"
  }
 },
 "nbformat": 4,
 "nbformat_minor": 4
}
