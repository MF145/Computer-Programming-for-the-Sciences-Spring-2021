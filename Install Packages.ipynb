{
 "cells": [
  {
   "cell_type": "code",
   "execution_count": 1,
   "metadata": {},
   "outputs": [
    {
     "name": "stdout",
     "output_type": "stream",
     "text": [
      "Collecting git+git://github.com/bblais/sci378\n",
      "  Cloning git://github.com/bblais/sci378 to c:\\cygwin64\\tmp\\pip-req-build-xey96zeq\n",
      "Requirement already satisfied, skipping upgrade: matplotlib in c:\\users\\bblais\\anaconda3\\lib\\site-packages (from sci378==0.0.4) (3.1.3)\n",
      "Requirement already satisfied, skipping upgrade: pandas in c:\\users\\bblais\\anaconda3\\lib\\site-packages (from sci378==0.0.4) (1.0.1)\n",
      "Requirement already satisfied, skipping upgrade: kiwisolver>=1.0.1 in c:\\users\\bblais\\anaconda3\\lib\\site-packages (from matplotlib->sci378==0.0.4) (1.1.0)\n",
      "Requirement already satisfied, skipping upgrade: cycler>=0.10 in c:\\users\\bblais\\anaconda3\\lib\\site-packages (from matplotlib->sci378==0.0.4) (0.10.0)\n",
      "Requirement already satisfied, skipping upgrade: python-dateutil>=2.1 in c:\\users\\bblais\\anaconda3\\lib\\site-packages (from matplotlib->sci378==0.0.4) (2.8.1)\n",
      "Requirement already satisfied, skipping upgrade: pyparsing!=2.0.4,!=2.1.2,!=2.1.6,>=2.0.1 in c:\\users\\bblais\\anaconda3\\lib\\site-packages (from matplotlib->sci378==0.0.4) (2.4.6)\n",
      "Requirement already satisfied, skipping upgrade: numpy>=1.11 in c:\\users\\bblais\\anaconda3\\lib\\site-packages (from matplotlib->sci378==0.0.4) (1.18.1)\n",
      "Requirement already satisfied, skipping upgrade: pytz>=2017.2 in c:\\users\\bblais\\anaconda3\\lib\\site-packages (from pandas->sci378==0.0.4) (2019.3)\n",
      "Requirement already satisfied, skipping upgrade: setuptools in c:\\users\\bblais\\anaconda3\\lib\\site-packages (from kiwisolver>=1.0.1->matplotlib->sci378==0.0.4) (45.2.0.post20200210)\n",
      "Requirement already satisfied, skipping upgrade: six in c:\\users\\bblais\\anaconda3\\lib\\site-packages (from cycler>=0.10->matplotlib->sci378==0.0.4) (1.14.0)\n",
      "Building wheels for collected packages: sci378\n",
      "  Building wheel for sci378 (setup.py): started\n",
      "  Building wheel for sci378 (setup.py): finished with status 'done'\n",
      "  Created wheel for sci378: filename=sci378-0.0.4-py3-none-any.whl size=5584 sha256=e6c55948959802e2e3bc17df48fdda1851fe5db3708cb64dff6876f24e4ee84e\n",
      "  Stored in directory: C:\\cygwin64\\tmp\\pip-ephem-wheel-cache-_fase8ka\\wheels\\90\\f2\\df\\98dfc8a6a28182d17be53c5999ba4aeb1e77307df9c1fc47d8\n",
      "Successfully built sci378\n",
      "Installing collected packages: sci378\n",
      "  Attempting uninstall: sci378\n",
      "    Found existing installation: sci378 0.0.4\n",
      "    Uninstalling sci378-0.0.4:\n",
      "      Successfully uninstalled sci378-0.0.4\n",
      "Successfully installed sci378-0.0.4\n",
      "Note: you may need to restart the kernel to use updated packages.\n"
     ]
    },
    {
     "name": "stderr",
     "output_type": "stream",
     "text": [
      "  Running command git clone -q git://github.com/bblais/sci378 'C:\\cygwin64\\tmp\\pip-req-build-xey96zeq'\n"
     ]
    }
   ],
   "source": [
    "!pip install \"git+git://github.com/bblais/sci378\" --upgrade"
   ]
  },
  {
   "cell_type": "code",
   "execution_count": 2,
   "metadata": {},
   "outputs": [
    {
     "name": "stdout",
     "output_type": "stream",
     "text": [
      "Version:  0.0.4\n"
     ]
    }
   ],
   "source": [
    "import sci378"
   ]
  },
  {
   "cell_type": "code",
   "execution_count": 7,
   "metadata": {},
   "outputs": [
    {
     "name": "stdout",
     "output_type": "stream",
     "text": [
      "https://github.com/bblais/Computer-Programming-For-the-Sciences-Spring-2021  --->  C:\\Users\\bblais\\Downloads\\Computer-Programming-For-the-Sciences-Spring-2021\n",
      "['From https://github.com/bblais/Computer-Programming-For-the-Sciences-Spring-2021', ' * branch            HEAD       -> FETCH_HEAD', 'Updating a5116db..31f5675', 'Fast-forward', ' Install Packages.ipynb | 116 +++++++++++++------------------------------------', ' 1 file changed, 29 insertions(+), 87 deletions(-)']\n"
     ]
    }
   ],
   "source": [
    "sci378.get_course_github()"
   ]
  },
  {
   "cell_type": "code",
   "execution_count": null,
   "metadata": {},
   "outputs": [],
   "source": []
  }
 ],
 "metadata": {
  "kernelspec": {
   "display_name": "Python 3",
   "language": "python",
   "name": "python3"
  },
  "language_info": {
   "codemirror_mode": {
    "name": "ipython",
    "version": 3
   },
   "file_extension": ".py",
   "mimetype": "text/x-python",
   "name": "python",
   "nbconvert_exporter": "python",
   "pygments_lexer": "ipython3",
   "version": "3.7.6"
  }
 },
 "nbformat": 4,
 "nbformat_minor": 4
}
