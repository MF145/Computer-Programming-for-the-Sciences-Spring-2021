{
 "cells": [
  {
   "cell_type": "code",
   "execution_count": 16,
   "metadata": {},
   "outputs": [
    {
     "name": "stdout",
     "output_type": "stream",
     "text": [
      "Collecting git+git://github.com/bblais/sci378\n",
      "  Cloning git://github.com/bblais/sci378 to c:\\users\\bblais\\appdata\\local\\temp\\pip-req-build-07j7csuf\n",
      "Requirement already satisfied, skipping upgrade: matplotlib in c:\\users\\bblais\\anaconda3\\lib\\site-packages (from sci378==0.0.3) (3.1.3)\n",
      "Requirement already satisfied, skipping upgrade: pandas in c:\\users\\bblais\\anaconda3\\lib\\site-packages (from sci378==0.0.3) (1.0.1)\n",
      "Requirement already satisfied, skipping upgrade: cycler>=0.10 in c:\\users\\bblais\\anaconda3\\lib\\site-packages (from matplotlib->sci378==0.0.3) (0.10.0)\n",
      "Requirement already satisfied, skipping upgrade: pyparsing!=2.0.4,!=2.1.2,!=2.1.6,>=2.0.1 in c:\\users\\bblais\\anaconda3\\lib\\site-packages (from matplotlib->sci378==0.0.3) (2.4.6)\n",
      "Requirement already satisfied, skipping upgrade: numpy>=1.11 in c:\\users\\bblais\\anaconda3\\lib\\site-packages (from matplotlib->sci378==0.0.3) (1.18.1)\n",
      "Requirement already satisfied, skipping upgrade: kiwisolver>=1.0.1 in c:\\users\\bblais\\anaconda3\\lib\\site-packages (from matplotlib->sci378==0.0.3) (1.1.0)\n",
      "Requirement already satisfied, skipping upgrade: python-dateutil>=2.1 in c:\\users\\bblais\\anaconda3\\lib\\site-packages (from matplotlib->sci378==0.0.3) (2.8.1)\n",
      "Requirement already satisfied, skipping upgrade: pytz>=2017.2 in c:\\users\\bblais\\anaconda3\\lib\\site-packages (from pandas->sci378==0.0.3) (2019.3)\n",
      "Requirement already satisfied, skipping upgrade: six in c:\\users\\bblais\\anaconda3\\lib\\site-packages (from cycler>=0.10->matplotlib->sci378==0.0.3) (1.14.0)\n",
      "Requirement already satisfied, skipping upgrade: setuptools in c:\\users\\bblais\\anaconda3\\lib\\site-packages (from kiwisolver>=1.0.1->matplotlib->sci378==0.0.3) (45.2.0.post20200210)\n",
      "Building wheels for collected packages: sci378\n",
      "  Building wheel for sci378 (setup.py): started\n",
      "  Building wheel for sci378 (setup.py): finished with status 'done'\n",
      "  Created wheel for sci378: filename=sci378-0.0.3-py3-none-any.whl size=5551 sha256=d1cbfb5a17790ea665efb959706f72dbf3515eff2cc97682ffcce97eafae418d\n",
      "  Stored in directory: C:\\Users\\bblais\\AppData\\Local\\Temp\\pip-ephem-wheel-cache-q5myq_m0\\wheels\\90\\f2\\df\\98dfc8a6a28182d17be53c5999ba4aeb1e77307df9c1fc47d8\n",
      "Successfully built sci378\n",
      "Installing collected packages: sci378\n",
      "  Attempting uninstall: sci378\n",
      "    Found existing installation: sci378 0.0.2\n",
      "    Uninstalling sci378-0.0.2:\n",
      "      Successfully uninstalled sci378-0.0.2\n",
      "Successfully installed sci378-0.0.3\n",
      "Note: you may need to restart the kernel to use updated packages.\n"
     ]
    },
    {
     "name": "stderr",
     "output_type": "stream",
     "text": [
      "  Running command git clone -q git://github.com/bblais/sci378 'C:\\Users\\bblais\\AppData\\Local\\Temp\\pip-req-build-07j7csuf'\n"
     ]
    }
   ],
   "source": [
    "pip install \"git+git://github.com/bblais/sci378\" --upgrade"
   ]
  },
  {
   "cell_type": "code",
   "execution_count": 3,
   "metadata": {},
   "outputs": [],
   "source": [
    "import sci378"
   ]
  },
  {
   "cell_type": "code",
   "execution_count": 4,
   "metadata": {},
   "outputs": [
    {
     "name": "stdout",
     "output_type": "stream",
     "text": [
      "https://github.com/bblais/Computer-Programming-For-the-Sciences-Spring-2021  --->  C:\\Users\\bblais\\Downloads\\Computer-Programming-For-the-Sciences-Spring-2021\n",
      "['From https://github.com/bblais/Computer-Programming-For-the-Sciences-Spring-2021', ' * branch            HEAD       -> FETCH_HEAD', 'Updating 50bc2e1..a5116db', 'Fast-forward', ' Install Packages.ipynb | 103 ++++++++++++++++++++++++++++++++++++-------------', ' 1 file changed, 77 insertions(+), 26 deletions(-)']\n"
     ]
    }
   ],
   "source": [
    "sci378.get_course_github()"
   ]
  },
  {
   "cell_type": "code",
   "execution_count": null,
   "metadata": {},
   "outputs": [],
   "source": []
  }
 ],
 "metadata": {
  "kernelspec": {
   "display_name": "Python 3",
   "language": "python",
   "name": "python3"
  },
  "language_info": {
   "codemirror_mode": {
    "name": "ipython",
    "version": 3
   },
   "file_extension": ".py",
   "mimetype": "text/x-python",
   "name": "python",
   "nbconvert_exporter": "python",
   "pygments_lexer": "ipython3",
   "version": "3.7.6"
  }
 },
 "nbformat": 4,
 "nbformat_minor": 4
}
